{
  "nbformat": 4,
  "nbformat_minor": 0,
  "metadata": {
    "colab": {
      "provenance": [],
      "toc_visible": true,
      "gpuType": "T4"
    },
    "kernelspec": {
      "name": "python3",
      "display_name": "Python 3"
    },
    "language_info": {
      "name": "python"
    },
    "accelerator": "GPU"
  },
  "cells": [
    {
      "cell_type": "markdown",
      "source": [
        "# Introduction"
      ],
      "metadata": {
        "id": "hFTRjlEdTWpP"
      }
    },
    {
      "cell_type": "markdown",
      "source": [
        "Welcome! In this notebook, we explore the application of **Multi-Agent Reinforcement Learning** (MARL) to model strategic interactions in a ***Stackelberg Competition*** setting. This project integrates concepts from economics, game theory, and reinforcement learning to simulate how firms (agents) learn optimal strategies in a competitive market."
      ],
      "metadata": {
        "id": "Oim9cpAATtxQ"
      }
    },
    {
      "cell_type": "markdown",
      "source": [
        "## Overview"
      ],
      "metadata": {
        "id": "8BMj-3piVW7X"
      }
    },
    {
      "cell_type": "markdown",
      "source": [
        "In traditional Stackelberg Competition models, firms engage in a leader-follower dynamic:\n",
        "\n",
        "- Leader Firm: Moves first by choosing its production quantity.\n",
        "- Follower Firm: Observes the leader's action and responds accordingly.\n",
        "\n",
        "The conventional objective for both firms is to **maximize immediate profit**. However, real-world firms often consider long-term financial health rather than focusing solely on short-term gains."
      ],
      "metadata": {
        "id": "eCG6A8E4VbHT"
      }
    },
    {
      "cell_type": "markdown",
      "source": [
        "## Enhanced Stackelberg Game: Optimize Financial Valuation"
      ],
      "metadata": {
        "id": "bJd8ohKmV6AQ"
      }
    },
    {
      "cell_type": "markdown",
      "source": [
        "Inspired from \"Multi-agent Hierarchical Reinforcement Learning with Dynamic Termination\", I am introducing a discount factor into the agents' reward functions:\n",
        "\n",
        "1. Firm/Agent-Objective: Maximize Financial Valuation\n",
        "2. Discount Factor: The primary heuristic by which agents determine what quantity (q) to produce\n",
        "\n"
      ],
      "metadata": {
        "id": "-kGe8E4dV-Qs"
      }
    },
    {
      "cell_type": "markdown",
      "source": [
        "## MARL Simulation Mechanism"
      ],
      "metadata": {
        "id": "ZnSYx_YBXA5Z"
      }
    },
    {
      "cell_type": "markdown",
      "source": [
        "- Quantity Choice: Each agent-firm decides quantity to produce of a non-differentiable good\n",
        "- Pricing Function: A function that determines price based on the total goods produced in the market\n",
        "- Profit Signal: Agent-firms are able to directly calculate their profits and use that as a directional signal of whether to increase or decrease quantity\n",
        "- Valuation Computation: **Discounted Future Cash-Flows** is the heuristic we will use to allow agents to calculate what their valuation will look like at time *t* based on what their profits will look like at time *t+1*"
      ],
      "metadata": {
        "id": "gOrQA8nVXMIs"
      }
    },
    {
      "cell_type": "markdown",
      "source": [
        "## Key Features"
      ],
      "metadata": {
        "id": "n919E73eYaCO"
      }
    },
    {
      "cell_type": "markdown",
      "source": [
        "1. Heuristic-Based Valuation: Simplifies complex future predictions by using a practical estimation method for valuation\n",
        "\n",
        "2. Dynamic Leader-Follower Interaction: Captures the strategic decision-making process inherent in the Stackelberg model\n",
        "\n",
        "3. Reinforcement Learning Agents: Both leader and follower are modeled as RL agents that learn optimal strategies over time"
      ],
      "metadata": {
        "id": "Gn1M8noHYdqq"
      }
    },
    {
      "cell_type": "markdown",
      "source": [
        "## Project Objectives"
      ],
      "metadata": {
        "id": "b7s8K8q6Yq7_"
      }
    },
    {
      "cell_type": "markdown",
      "source": [
        "1. **Demonstrate Advanced ML Techniques**: Show proficiency in applying MARL to economic models with hierarchical structures\n",
        "\n",
        "2. Explore Long-Term Strategic Planning: Analyze how considering future profits influences agents' strategies compared to short-term profit maximization\n",
        "\n",
        "3. Bridge Economics and AI: Illustrate the synergy between economic theory and machine learning methodologies"
      ],
      "metadata": {
        "id": "G5ZprUD8YujA"
      }
    },
    {
      "cell_type": "markdown",
      "source": [
        "## Pourquoi c'est Important (Why this is Important)"
      ],
      "metadata": {
        "id": "8oOt-DZjZGCh"
      }
    },
    {
      "cell_type": "markdown",
      "source": [
        "For recruiters and engineers:\n",
        "- Innovative Application of Machine Learning: Highlights my ability to extend standard models (AI and Economic) by integrating concepts from different domains\n",
        "\n",
        "- Technical Proficiency: Demonstrates my expertise in Reinforcement Learning, Game Theory, and Adversarial Learning\n",
        "\n",
        "- Real-World Relevance: Provides insight into how firms might behave when focusing on long-term valuation, a critical consideration in business strategy"
      ],
      "metadata": {
        "id": "awrgDQv1ZRXI"
      }
    },
    {
      "cell_type": "markdown",
      "source": [
        "## How to Use This Notebook"
      ],
      "metadata": {
        "id": "VkoNup2tlUTV"
      }
    },
    {
      "cell_type": "markdown",
      "source": [
        "- Sections: The notebook is organized into clear sections:\n",
        "\n",
        "  1. Environment Setup: Defines the Stackelberg competition environment with valuation-based rewards.\n",
        "  2. Agent Implementation: Details the RL algorithms used for the leader and follower agents.\n",
        "  3. Training Process: Shows how agents learn and adapt their strategies over time.\n",
        "  4. Results Analysis: Provides visualizations and interpretations of the agents' behaviors and outcomes.\n",
        "\n",
        "- Interactive Exploration:\n",
        "  1. Adjust Parameters: Experiment with different discount factors, learning rates, and other hyperparameters.\n",
        "  2. Observe Behaviors: Rerun simulations to see how changes impact the agents' strategies.\n",
        "  3. Visualizations: Utilize graphs and charts to gain insights into the learning dynamics.\n"
      ],
      "metadata": {
        "id": "HtgyKwuXlnNS"
      }
    },
    {
      "cell_type": "markdown",
      "source": [
        "## Importing Requisite Libraries"
      ],
      "metadata": {
        "id": "qh3BGTbL9jMY"
      }
    },
    {
      "cell_type": "code",
      "source": [
        "!pip install gymnasium"
      ],
      "metadata": {
        "colab": {
          "base_uri": "https://localhost:8080/"
        },
        "id": "O2E60enp9lBy",
        "outputId": "9050a704-dd76-4b66-8b05-492706ae30eb"
      },
      "execution_count": null,
      "outputs": [
        {
          "output_type": "stream",
          "name": "stdout",
          "text": [
            "Requirement already satisfied: gymnasium in /usr/local/lib/python3.10/dist-packages (0.29.1)\n",
            "Requirement already satisfied: numpy>=1.21.0 in /usr/local/lib/python3.10/dist-packages (from gymnasium) (1.26.4)\n",
            "Requirement already satisfied: cloudpickle>=1.2.0 in /usr/local/lib/python3.10/dist-packages (from gymnasium) (2.2.1)\n",
            "Requirement already satisfied: typing-extensions>=4.3.0 in /usr/local/lib/python3.10/dist-packages (from gymnasium) (4.12.2)\n",
            "Requirement already satisfied: farama-notifications>=0.0.1 in /usr/local/lib/python3.10/dist-packages (from gymnasium) (0.0.4)\n"
          ]
        }
      ]
    },
    {
      "cell_type": "code",
      "source": [
        "import gymnasium as gym\n",
        "from gymnasium import spaces\n",
        "import torch\n",
        "import torch.nn as nn\n",
        "import torch.nn.functional as F\n",
        "import torch.optim as optim\n",
        "from torch.distributions import Normal, TransformedDistribution, SigmoidTransform, AffineTransform\n",
        "import numpy as np\n",
        "import random"
      ],
      "metadata": {
        "id": "7HFVRe25hDJf"
      },
      "execution_count": null,
      "outputs": []
    },
    {
      "cell_type": "markdown",
      "source": [
        "# Environment Setup"
      ],
      "metadata": {
        "id": "GRUZGuUNiMBe"
      }
    },
    {
      "cell_type": "markdown",
      "source": [
        "Environment is based on [Gymansium](https://github.com/Farama-Foundation/Gymnasium)"
      ],
      "metadata": {
        "id": "aTkvPeMBtxx_"
      }
    },
    {
      "cell_type": "code",
      "source": [
        "class StackelbergCompetitionEnv(gym.Env):\n",
        "    \"\"\"\n",
        "    Custom Environment for Stackelberg Competition between two firms.\n",
        "    \"\"\"\n",
        "    metadata = {\"render_modes\": [\"human\"]}\n",
        "\n",
        "    def __init__(self, leader_cost, follower_cost, discount_rate=0.9,\n",
        "                 max_steps=10, max_quantity=100, max_price=1000, demand_factor=5.0):\n",
        "      super(StackelbergCompetitionEnv, self).__init__()\n",
        "\n",
        "      # Discount factor for measuring future rewards\n",
        "      self.discount_rate = discount_rate\n",
        "      # Max steps allowed PER agent\n",
        "      self.max_steps = max_steps\n",
        "\n",
        "      # Leader states\n",
        "      self.leader_total_valuation = 0.0\n",
        "      self.leader_quantities = []\n",
        "      self.leader_cost = leader_cost\n",
        "\n",
        "      # Follower states\n",
        "      self.follower_total_valuation = 0.0\n",
        "      self.follower_quantities = []\n",
        "      self.follower_cost = follower_cost\n",
        "\n",
        "      # Pricing factors\n",
        "      self.max_price = max_price\n",
        "      self.demand_sensitivity = demand_factor\n",
        "\n",
        "      # Action space: Each firm chooses a quantity between 0 and a maximum value\n",
        "      self.max_quantity = max_quantity\n",
        "      self.action_space = spaces.Box(low=0.0, high=self.max_quantity,\n",
        "                                      shape=(1,), dtype=np.float32)\n",
        "\n",
        "      # Observation space: Leader's quantity is observed by the follower\n",
        "      # Additional state variables can be added if needed\n",
        "      self.observation_space = spaces.Box(low=0.0, high=self.max_quantity,\n",
        "                                          shape=(1,), dtype=np.float32)\n",
        "\n",
        "      # Internal step state\n",
        "      self.current_step = 0\n",
        "\n",
        "      # Initialize random seed\n",
        "      self.seed()\n",
        "\n",
        "\n",
        "    def seed(self, seed=None):\n",
        "      np.random.seed(seed)\n",
        "\n",
        "    def reset(self, seed=None, options=None):\n",
        "      \"\"\"\n",
        "      Reset the environment to an initial state.\n",
        "      \"\"\"\n",
        "      super().reset(seed=seed)\n",
        "      # Reset the internal state\n",
        "      self.reset_internal_state()\n",
        "      # Return initial observation\n",
        "      observation = np.array([0.0], dtype=np.float32)\n",
        "      info = {'agent': 'leader'}\n",
        "      return observation, info\n",
        "\n",
        "    def reset_internal_state(self):\n",
        "      self.leader_total_valuation = 0.0\n",
        "      self.leader_quantities = []\n",
        "      self.follower_total_valuation = 0.0\n",
        "      self.follower_quantities = []\n",
        "      self.current_step = 0\n",
        "\n",
        "    def step(self, action):\n",
        "      \"\"\"\n",
        "      Execute one time step within the environment.\n",
        "      \"\"\"\n",
        "      terminated = False\n",
        "      truncated = False\n",
        "      info = {}\n",
        "\n",
        "      # Leader goes every other step, starting at step 0\n",
        "      if self.current_step % 2 == 0:\n",
        "        leader_quantity = np.clip(action[0], 0.0, self.max_quantity)\n",
        "        self.leader_quantities.append(leader_quantity)\n",
        "        # Observation for follower: leader's quantity\n",
        "        observation = np.array(leader_quantity, dtype=np.float32)\n",
        "        reward = 0.0  # Leader waits for the follower's move\n",
        "        info['agent'] = 'leader'\n",
        "        self.current_step += 1\n",
        "        return observation, reward, terminated, truncated, info\n",
        "      else:\n",
        "        # Follower's turn\n",
        "        follower_quantity = np.clip(action[0], 0.0, self.max_quantity)\n",
        "        self.follower_quantities.append(follower_quantity)\n",
        "        info['agent'] = 'follower'\n",
        "\n",
        "        # Compute profits and their discounts per step number\n",
        "        leader_profit, follower_profit = self.calculate_profits()\n",
        "        discount_leader_profit = leader_profit / ((1 + self.discount_rate) ** self.current_step)\n",
        "        discount_follower_profit = follower_profit / ((1 + self.discount_rate) ** self.current_step)\n",
        "\n",
        "        # Add profits to total valuation\n",
        "        self.leader_total_valuation += (self.discount_rate ** self.current_step) * discount_leader_profit\n",
        "        self.follower_total_valuation += (self.discount_rate ** self.current_step) * discount_follower_profit\n",
        "\n",
        "        # Prepare observations (i.e. next state)\n",
        "        if len(self.follower_quantities) >= 2:\n",
        "          observation = np.array(self.follower_quantities[-2], dtype=np.float32)\n",
        "        else:\n",
        "          observation = np.array([0.0], dtype=np.float32)\n",
        "\n",
        "        # Follower waits for leader's next move\n",
        "        reward = 0.0\n",
        "        # Increment step\n",
        "        self.current_step += 1\n",
        "\n",
        "        # Check if episode should terminate\n",
        "        if self.current_step >= self.max_steps * 2:\n",
        "          terminated = True\n",
        "          # Rewards are the final valuations\n",
        "          reward = np.array([self.leader_total_valuation,\n",
        "                             self.follower_total_valuation], dtype=np.float32)\n",
        "        else:\n",
        "          terminated = False\n",
        "\n",
        "        return observation, reward, terminated, truncated, info\n",
        "\n",
        "    def pricing_function(self, q_leader, q_follower):\n",
        "      \"\"\"\n",
        "      Custom Linear pricing function based on combined quantities.\n",
        "      Example: Inverse demand function P = max_price - a * (Q_leader + Q_follower)\n",
        "      \"\"\"\n",
        "      total_quantity = q_leader + q_follower\n",
        "      price = self.max_price - self.demand_sensitivity * total_quantity\n",
        "      price = max(price, 0.0)  # Price cannot be negative\n",
        "      return price\n",
        "\n",
        "    def total_cost(self, q, agent):\n",
        "      \"\"\"\n",
        "      Custom cost functions to calculate total cost for both agents to produce\n",
        "      a given quantity.\n",
        "      Without this, there is no incentive for the leader NOT to produce\n",
        "      quantity_max.\n",
        "      \"\"\"\n",
        "      if agent == 'leader':\n",
        "        return self.leader_cost(q)\n",
        "      elif agent == 'follower':\n",
        "        return self.follower_cost(q)\n",
        "      else:\n",
        "        raise ValueError(\"Invalid agent type. Expected 'leader' or 'follower'.\")\n",
        "\n",
        "    def calculate_profits(self):\n",
        "      \"\"\"\n",
        "      Calculate the profits for both firms at the current time step.\n",
        "      \"\"\"\n",
        "      q_leader = self.leader_quantities[-1]\n",
        "      q_follower = self.follower_quantities[-1]\n",
        "      # Calculate market price\n",
        "      price = self.pricing_function(q_leader, q_follower)\n",
        "      # Calculate total costs\n",
        "      cost_leader = self.total_cost(q_leader, 'leader')\n",
        "      cost_follower = self.total_cost(q_follower, 'follower')\n",
        "\n",
        "      # Calculate revenues\n",
        "      leader_revenue = q_leader * price\n",
        "      follower_revenue = q_follower * price\n",
        "\n",
        "      # Calculate profits\n",
        "      leader_profit = leader_revenue - cost_leader\n",
        "      follower_profit = follower_revenue - cost_follower\n",
        "\n",
        "      return leader_profit, follower_profit\n",
        "\n",
        "    def render(self):\n",
        "        pass\n",
        "\n",
        "    def close(self):\n",
        "        pass"
      ],
      "metadata": {
        "id": "MLwn5ewDwY8c"
      },
      "execution_count": null,
      "outputs": []
    },
    {
      "cell_type": "markdown",
      "source": [
        "# Agent Implementation\n"
      ],
      "metadata": {
        "id": "LFgfaHWgaQFg"
      }
    },
    {
      "cell_type": "markdown",
      "source": [
        "## Leader Agent"
      ],
      "metadata": {
        "id": "Vo6Ucg3tRt9P"
      }
    },
    {
      "cell_type": "markdown",
      "source": [
        "Leader agent model to choose action distributions (based on normal distribution)"
      ],
      "metadata": {
        "id": "Ycdkg4ZTfD4-"
      }
    },
    {
      "cell_type": "code",
      "source": [
        "class LeaderAgent(nn.Module):\n",
        "  def __init__(self, state_size, action_size):\n",
        "    super(LeaderAgent, self).__init__()\n",
        "    self.state_size = state_size\n",
        "    self.action_size = action_size\n",
        "\n",
        "    # self.fc1 = nn.Linear(state_size, 16)\n",
        "    # self.fc2 = nn.Linear(16, 16)\n",
        "    self.fc = nn.Sequential(\n",
        "        nn.Linear(state_size, 16),\n",
        "        nn.ReLU(),\n",
        "        nn.Linear(16, 16),\n",
        "        nn.ReLU()\n",
        "    )\n",
        "    self.fc_mean = nn.Linear(16, action_size)\n",
        "    self.fc_std = nn.Linear(16, action_size)\n",
        "\n",
        "  def forward(self, state):\n",
        "    # x = F.relu(self.fc1(state))\n",
        "    # x = F.relu(self.fc2(x))\n",
        "    x = self.fc(state)\n",
        "    mean = self.fc_mean(x)\n",
        "    log_std = torch.exp(self.fc_std(x)) + 1e-6\n",
        "    return mean, log_std\n"
      ],
      "metadata": {
        "id": "N_P75AA0Rx0e"
      },
      "execution_count": null,
      "outputs": []
    },
    {
      "cell_type": "markdown",
      "source": [
        "Leader Agent cost function"
      ],
      "metadata": {
        "id": "MSS_YBVyfF-q"
      }
    },
    {
      "cell_type": "code",
      "source": [
        "def leader_cost(quantity):\n",
        "  return 0.01 * quantity ** 2"
      ],
      "metadata": {
        "id": "eaThk9lCfIZu"
      },
      "execution_count": null,
      "outputs": []
    },
    {
      "cell_type": "markdown",
      "source": [
        "## Follower Agent"
      ],
      "metadata": {
        "id": "-aRRsq1LStpV"
      }
    },
    {
      "cell_type": "markdown",
      "source": [
        "Follower agent model to choose action distributions (based on normal distribution)"
      ],
      "metadata": {
        "id": "T2BVKsVzfXJU"
      }
    },
    {
      "cell_type": "code",
      "source": [
        "class FollowerAgent(nn.Module):\n",
        "  def __init__(self, state_size, action_size):\n",
        "    super(FollowerAgent, self).__init__()\n",
        "    self.state_size = state_size\n",
        "    self.action_size = action_size\n",
        "\n",
        "    # self.fc1 = nn.Linear(state_size, 16)\n",
        "    self.fc = nn.Sequential(\n",
        "        nn.Linear(state_size, 16),\n",
        "        nn.ReLU(),\n",
        "        nn.Linear(16, 16),\n",
        "        nn.ReLU()\n",
        "    )\n",
        "    # self.fc2 = nn.Linear(16, 16)\n",
        "    self.fc_mean = nn.Linear(16, action_size)\n",
        "    self.fc_std = nn.Linear(16, action_size)\n",
        "\n",
        "  def forward(self, state):\n",
        "    # x = F.relu(self.fc1(state))\n",
        "    # x = F.relu(self.fc2(x))\n",
        "    x = self.fc(state)\n",
        "    mean = self.fc_mean(x)\n",
        "    log_std = torch.exp(self.fc_std(x)) + 1e-6\n",
        "    return mean, log_std\n"
      ],
      "metadata": {
        "id": "auwIXrw9SvKy"
      },
      "execution_count": null,
      "outputs": []
    },
    {
      "cell_type": "markdown",
      "source": [
        "Follower Agent cost function"
      ],
      "metadata": {
        "id": "8JPmAyH-fSEf"
      }
    },
    {
      "cell_type": "code",
      "source": [
        "def follower_cost(quantity):\n",
        "  return 0.01 * quantity ** 2"
      ],
      "metadata": {
        "id": "j2EiSKncfUpg"
      },
      "execution_count": null,
      "outputs": []
    },
    {
      "cell_type": "markdown",
      "source": [
        "## Action Selection Method"
      ],
      "metadata": {
        "id": "nYYQoPhmS4yt"
      }
    },
    {
      "cell_type": "markdown",
      "source": [
        "Method selects a quantity (action) for the agent to produce.\n",
        "\n",
        "I simulate a degree of uncertainty via the standard-deviation estimated by the firm-agent's model itself. I then sample from a **Normal Distribution** what the action/quantity should be given the observed state (other agent's prior time step quantity). I also acquire the log probability of this action for model updates"
      ],
      "metadata": {
        "id": "dzRXs3nLVrOu"
      }
    },
    {
      "cell_type": "code",
      "source": [
        "# def select_action(agent, state, max_quantity):\n",
        "#   state = torch.FloatTensor(state).unsqueeze(0)\n",
        "#   # Process what the mean & std-dev for action-quantity should look like\n",
        "#   mean, std = agent(state)\n",
        "#   # Sample new quantity from a normal distribution\n",
        "#   dist = torch.distributions.Normal(mean, std)\n",
        "#   action = dist.sample()\n",
        "#   # Ensure action-quantity is within bounds\n",
        "#   action = torch.clamp(action, 0.0, max_quantity)\n",
        "#   log_prob = dist.log_prob(action, require)\n",
        "#   return action.item(), log_prob"
      ],
      "metadata": {
        "id": "UUuBdOn2S7Uc"
      },
      "execution_count": null,
      "outputs": []
    },
    {
      "cell_type": "code",
      "source": [
        "def select_action(agent, state, max_quantity):\n",
        "  state = torch.FloatTensor(state).unsqueeze(0).detach()\n",
        "  # Process what the mean & std-dev for action-quantity should look like\n",
        "  mean, std = agent(state)\n",
        "  # Define base distribution\n",
        "  base_dist = Normal(mean, std)\n",
        "  # Define transformations to map actions to [0, max_quantity]\n",
        "  transforms = [SigmoidTransform(), AffineTransform(loc=0.0, scale=max_quantity)]\n",
        "  # Create the transformed distribution\n",
        "  dist = TransformedDistribution(base_dist, transforms)\n",
        "  # Sample action using rsample for reparameterization\n",
        "  action = dist.rsample()\n",
        "  # Compute log probability for action\n",
        "  log_prob = dist.log_prob(action)\n",
        "  return action, log_prob"
      ],
      "metadata": {
        "id": "ZalEZ1mJmV6m"
      },
      "execution_count": null,
      "outputs": []
    },
    {
      "cell_type": "markdown",
      "source": [
        "# Training/Simulation Process"
      ],
      "metadata": {
        "id": "TlsfATjWiLSB"
      }
    },
    {
      "cell_type": "code",
      "source": [
        "# Training hyper parameters\n",
        "learning_rate = 0.001\n",
        "num_episodes = 100\n",
        "discount_rate = 0.05\n",
        "max_steps = 10\n",
        "max_quantity = 100\n",
        "max_price = 1000\n",
        "demand_price_sensitivity = 5.0"
      ],
      "metadata": {
        "id": "oukrnP-tauLk"
      },
      "execution_count": null,
      "outputs": []
    },
    {
      "cell_type": "code",
      "source": [
        "# Initialization\n",
        "# environment\n",
        "env = StackelbergCompetitionEnv(leader_cost, follower_cost,\n",
        "                                discount_rate=discount_rate, max_steps=max_steps,\n",
        "                                max_quantity=max_quantity, max_price=max_price,\n",
        "                                demand_factor=demand_price_sensitivity)\n",
        "\n",
        "# agents\n",
        "leader_agent = LeaderAgent(state_size=1, action_size=1)\n",
        "follower_agent = FollowerAgent(state_size=1, action_size=1)\n",
        "\n",
        "# agent optimizers\n",
        "leader_optimizer = optim.Adam(leader_agent.parameters(), lr=learning_rate)\n",
        "follower_optimizer = optim.Adam(follower_agent.parameters(), lr=learning_rate)"
      ],
      "metadata": {
        "id": "b_3CnAXzadn4"
      },
      "execution_count": null,
      "outputs": []
    },
    {
      "cell_type": "code",
      "source": [
        "# Lists to store rewards and log_probs for normalization\n",
        "leader_total_rewards = []\n",
        "follower_total_rewards = []\n",
        "# leader_log_prob_sums = []\n",
        "# follower_log_prob_sums = []\n",
        "leader_losses = []\n",
        "follower_losses = []\n",
        "torch.autograd.set_detect_anomaly(True)\n",
        "for episode in range(num_episodes):\n",
        "  # Reset environment\n",
        "  state, info = env.reset()\n",
        "  terminated = False\n",
        "\n",
        "  # Initialize cumulative log probabilities\n",
        "  leader_log_prob = []\n",
        "  follower_log_prob = []\n",
        "  leader_rewards = []\n",
        "  follower_rewards = []\n",
        "  # ct = 0\n",
        "  while not terminated:\n",
        "    if info['agent'] == 'leader':\n",
        "      # Leader's turn\n",
        "      action, log_prob = select_action(leader_agent, state, max_quantity)\n",
        "      next_state, reward, terminated, truncated, info = env.step(action.detach().numpy())\n",
        "\n",
        "      # Accumulate log probability\n",
        "      leader_log_prob.append(log_prob)\n",
        "      leader_rewards.append(0.0)\n",
        "\n",
        "\n",
        "      state = next_state\n",
        "    else:\n",
        "      # Follower's turn\n",
        "      action, log_prob = select_action(follower_agent, state, max_quantity)\n",
        "      next_state, reward, terminated, truncated, info = env.step(action.detach().numpy())\n",
        "\n",
        "      # Accumulate log probability\n",
        "      follower_log_prob.append(log_prob)\n",
        "      follower_rewards.append(0.0)\n",
        "      state = next_state\n",
        "\n",
        "  # Calculate total rewards\n",
        "  leader_total_reward = reward[0]\n",
        "  leader_total_rewards.append(leader_total_reward)\n",
        "  follower_total_reward = reward[1]\n",
        "  follower_total_rewards.append(follower_total_reward)\n",
        "\n",
        "  # Assign final rewards to the last time step\n",
        "  leader_rewards[-1] = leader_total_reward\n",
        "  follower_rewards[-1] = follower_total_reward\n",
        "\n",
        "  # Convert lists to tensors\n",
        "  leader_log_probs = torch.stack(leader_log_prob)\n",
        "  follower_log_probs = torch.stack(follower_log_prob)\n",
        "  leader_rewards = torch.tensor(leader_rewards, dtype=torch.float32)\n",
        "  follower_rewards = torch.tensor(follower_rewards, dtype=torch.float32)\n",
        "\n",
        "  # Compute losses without reward normalization\n",
        "  leader_loss = - (leader_log_probs * leader_rewards).sum()\n",
        "  leader_losses.append(leader_loss.item())\n",
        "  follower_loss = - (follower_log_probs * follower_rewards).sum()\n",
        "  follower_losses.append(follower_loss.item())\n",
        "\n",
        "  # Update leader agent\n",
        "  leader_optimizer.zero_grad()\n",
        "  leader_loss.backward()\n",
        "  leader_optimizer.step()\n",
        "\n",
        "  # Update follower agent\n",
        "  follower_optimizer.zero_grad()\n",
        "  follower_loss.backward()\n",
        "  follower_optimizer.step()\n",
        "\n",
        "  # leader_log_prob_sum = torch.cat(leader_log_prob).sum()\n",
        "  # follower_log_prob_sum = torch.cat(follower_log_prob).sum()\n",
        "  # ---- Trying stable based backprop for valuation ----\n",
        "  # After episode ends, retrieve the total valuations as the final reward\n",
        "  # leader_total_reward = reward[0]\n",
        "  # follower_total_reward = reward[1]\n",
        "  # # and store total rewards\n",
        "  # leader_total_rewards.append(leader_total_reward)\n",
        "  # follower_total_rewards.append(follower_total_reward)\n",
        "  # # Convert log probs of leader and follower into computable tensors\n",
        "  # leader_log_prob_sum = torch.cat(leader_log_prob).sum()\n",
        "  # follower_log_prob_sum = torch.cat(follower_log_prob).sum()\n",
        "  # leader_log_prob_sums.append(leader_log_prob_sum)\n",
        "  # follower_log_prob_sums.append(follower_log_prob_sum)\n",
        "\n",
        "  # # Update policies every N episodes\n",
        "  # if (episode + 1) % 10 == 0:\n",
        "  #   # Normalize rewards\n",
        "  #   # leader_total_rewards = torch.FloatTensor(leader_total_rewards)\n",
        "  #   # follower_total_rewards = torch.FloatTensor(follower_total_rewards)\n",
        "  #   # leader_log_prob_sums = torch.FloatTensor(leader_log_prob_sums)\n",
        "  #   # follower_log_prob_sums = torch.FloatTensor(follower_log_prob_sums)\n",
        "  #   leader_mean = torch.mean(torch.FloatTensor(leader_total_rewards))\n",
        "  #   leader_std = torch.std(torch.FloatTensor(leader_total_rewards)) + 1e-9\n",
        "  #   follower_mean = torch.mean(torch.FloatTensor(follower_total_rewards))\n",
        "  #   follower_std = torch.std(torch.FloatTensor(follower_total_rewards)) + 1e-9\n",
        "\n",
        "  #   leader_rewards_norm = (torch.FloatTensor(leader_total_rewards) - leader_mean) / leader_std\n",
        "  #   follower_rewards_norm = (torch.FloatTensor(follower_total_rewards) - follower_mean) / follower_std\n",
        "\n",
        "  #   # Update policies\n",
        "  #   # Leader update\n",
        "  #   # print(leader_log_prob_sums)\n",
        "  #   # print(leader_rewards_norm)\n",
        "  #   # leader_loss = -leader_log_prob_sums * leader_rewards_norm\n",
        "  #   # leader_optimizer.zero_grad()\n",
        "  #   # leader_loss.backward()\n",
        "  #   # leader_optimizer.step()\n",
        "\n",
        "  #   # # Follower update\n",
        "  #   # follower_loss = -follower_log_prob_sums * follower_rewards_norm\n",
        "  #   # follower_optimizer.zero_grad()\n",
        "  #   # follower_loss.backward()\n",
        "  #   # follower_optimizer.step()\n",
        "  #   for i in range(len(leader_rewards_norm)):\n",
        "  #     # Leader update\n",
        "  #     leader_loss = -leader_log_prob_sums[i] * leader_rewards_norm[i]\n",
        "  #     leader_optimizer.zero_grad()\n",
        "  #     leader_loss.backward()\n",
        "  #     leader_optimizer.step()\n",
        "\n",
        "  #     # Follower update\n",
        "  #     follower_loss = -follower_log_prob_sums[i] * follower_rewards_norm[i]\n",
        "  #     follower_optimizer.zero_grad()\n",
        "  #     follower_loss.backward()\n",
        "  #     follower_optimizer.step()\n",
        "\n",
        "    # Clear stored values\n",
        "    # leader_total_rewards = []\n",
        "    # follower_total_rewards = []\n",
        "    # leader_log_prob_sums = []\n",
        "    # follower_log_prob_sums = []\n",
        "\n",
        "\n",
        "  # print(leader_total_reward)\n",
        "  # print(follower_total_reward)\n",
        "  print(f\"Episode {episode+1}/{num_episodes}, Leader Valuation: {leader_total_reward[0]:.4f}, Follower Valuation: {follower_total_reward[0]:.4f}\")\n"
      ],
      "metadata": {
        "colab": {
          "base_uri": "https://localhost:8080/"
        },
        "id": "80jz4VjlmCcJ",
        "outputId": "1c8bb7f1-2855-4149-9bcc-6d44bd4a964d"
      },
      "execution_count": null,
      "outputs": [
        {
          "output_type": "stream",
          "name": "stderr",
          "text": [
            "<ipython-input-159-a380ea8d1fa4>:55: DeprecationWarning: Conversion of an array with ndim > 0 to a scalar is deprecated, and will error in future. Ensure you extract a single element from your array before performing this operation. (Deprecated NumPy 1.25.)\n",
            "  leader_rewards = torch.tensor(leader_rewards, dtype=torch.float32)\n",
            "<ipython-input-159-a380ea8d1fa4>:56: DeprecationWarning: Conversion of an array with ndim > 0 to a scalar is deprecated, and will error in future. Ensure you extract a single element from your array before performing this operation. (Deprecated NumPy 1.25.)\n",
            "  follower_rewards = torch.tensor(follower_rewards, dtype=torch.float32)\n"
          ]
        },
        {
          "output_type": "stream",
          "name": "stdout",
          "text": [
            "Episode 1/100, Leader Valuation: 913.9763, Follower Valuation: 962.0297\n",
            "Episode 2/100, Leader Valuation: 2160.8560, Follower Valuation: 33.5350\n",
            "Episode 3/100, Leader Valuation: 1762.3820, Follower Valuation: 139.6999\n",
            "Episode 4/100, Leader Valuation: 1814.6584, Follower Valuation: 106.7909\n",
            "Episode 5/100, Leader Valuation: 814.5700, Follower Valuation: 547.0342\n",
            "Episode 6/100, Leader Valuation: 1941.3546, Follower Valuation: 65.7887\n",
            "Episode 7/100, Leader Valuation: 2269.3762, Follower Valuation: 12.7940\n",
            "Episode 8/100, Leader Valuation: 1838.1178, Follower Valuation: 80.5664\n",
            "Episode 9/100, Leader Valuation: 2027.3582, Follower Valuation: 37.8778\n",
            "Episode 10/100, Leader Valuation: 1917.8408, Follower Valuation: 52.8909\n",
            "Episode 11/100, Leader Valuation: 1764.3845, Follower Valuation: 80.3182\n",
            "Episode 12/100, Leader Valuation: 1342.3423, Follower Valuation: 229.0804\n",
            "Episode 13/100, Leader Valuation: 422.0162, Follower Valuation: 1411.8494\n",
            "Episode 14/100, Leader Valuation: 2220.4451, Follower Valuation: 7.5499\n",
            "Episode 15/100, Leader Valuation: 2329.7429, Follower Valuation: 2.4534\n",
            "Episode 16/100, Leader Valuation: 1021.8560, Follower Valuation: 432.7007\n",
            "Episode 17/100, Leader Valuation: 1865.1510, Follower Valuation: 33.1739\n",
            "Episode 18/100, Leader Valuation: 2084.5627, Follower Valuation: 11.0787\n",
            "Episode 19/100, Leader Valuation: 1208.5032, Follower Valuation: 225.5401\n",
            "Episode 20/100, Leader Valuation: 1777.8646, Follower Valuation: 35.1561\n",
            "Episode 21/100, Leader Valuation: 1874.8152, Follower Valuation: 20.5921\n",
            "Episode 22/100, Leader Valuation: 2288.5334, Follower Valuation: 1.1289\n",
            "Episode 23/100, Leader Valuation: 1714.8640, Follower Valuation: 31.0713\n",
            "Episode 24/100, Leader Valuation: 1868.0552, Follower Valuation: 13.3476\n",
            "Episode 25/100, Leader Valuation: 1866.6394, Follower Valuation: 12.9392\n",
            "Episode 26/100, Leader Valuation: 2175.2568, Follower Valuation: 1.3652\n",
            "Episode 27/100, Leader Valuation: 1197.4393, Follower Valuation: 131.6461\n",
            "Episode 28/100, Leader Valuation: 2202.7173, Follower Valuation: 0.7093\n",
            "Episode 29/100, Leader Valuation: 1412.1958, Follower Valuation: 51.8525\n",
            "Episode 30/100, Leader Valuation: 2019.3636, Follower Valuation: 2.0918\n",
            "Episode 31/100, Leader Valuation: 2066.3936, Follower Valuation: 1.2403\n",
            "Episode 32/100, Leader Valuation: 1307.1000, Follower Valuation: 58.2393\n",
            "Episode 33/100, Leader Valuation: 1791.2340, Follower Valuation: 5.8549\n",
            "Episode 34/100, Leader Valuation: 1281.5039, Follower Valuation: 52.8540\n",
            "Episode 35/100, Leader Valuation: 620.5000, Follower Valuation: 496.9653\n",
            "Episode 36/100, Leader Valuation: 1584.2780, Follower Valuation: 10.1644\n",
            "Episode 37/100, Leader Valuation: 1815.5934, Follower Valuation: 2.2348\n",
            "Episode 38/100, Leader Valuation: 1266.9512, Follower Valuation: 36.3191\n",
            "Episode 39/100, Leader Valuation: 1483.4165, Follower Valuation: 10.9746\n",
            "Episode 40/100, Leader Valuation: 1410.3474, Follower Valuation: 13.9312\n",
            "Episode 41/100, Leader Valuation: 1485.8264, Follower Valuation: 7.9598\n",
            "Episode 42/100, Leader Valuation: 1176.4935, Follower Valuation: 34.3670\n",
            "Episode 43/100, Leader Valuation: 2263.0271, Follower Valuation: 0.0060\n",
            "Episode 44/100, Leader Valuation: 1865.1907, Follower Valuation: 0.3310\n",
            "Episode 45/100, Leader Valuation: 2000.1160, Follower Valuation: 0.0744\n",
            "Episode 46/100, Leader Valuation: 1623.7937, Follower Valuation: 1.2194\n",
            "Episode 47/100, Leader Valuation: 1607.3983, Follower Valuation: 1.0897\n",
            "Episode 48/100, Leader Valuation: 2279.3721, Follower Valuation: 0.0005\n",
            "Episode 49/100, Leader Valuation: 1882.5363, Follower Valuation: 0.0626\n",
            "Episode 50/100, Leader Valuation: 2181.3923, Follower Valuation: 0.0012\n",
            "Episode 51/100, Leader Valuation: 1769.6299, Follower Valuation: 0.0930\n",
            "Episode 52/100, Leader Valuation: 1294.0359, Follower Valuation: 3.0287\n",
            "Episode 53/100, Leader Valuation: 1698.9424, Follower Valuation: 0.0957\n",
            "Episode 54/100, Leader Valuation: 1703.8679, Follower Valuation: 0.0649\n",
            "Episode 55/100, Leader Valuation: 2059.5613, Follower Valuation: 0.0008\n",
            "Episode 56/100, Leader Valuation: 1968.8191, Follower Valuation: 0.0017\n",
            "Episode 57/100, Leader Valuation: 2022.6915, Follower Valuation: 0.0006\n",
            "Episode 58/100, Leader Valuation: 1734.0465, Follower Valuation: 0.0126\n",
            "Episode 59/100, Leader Valuation: 1416.8914, Follower Valuation: 0.2137\n",
            "Episode 60/100, Leader Valuation: 1775.3442, Follower Valuation: 0.0040\n",
            "Episode 61/100, Leader Valuation: 1558.1660, Follower Valuation: 0.0311\n",
            "Episode 62/100, Leader Valuation: 2093.4695, Follower Valuation: 0.0048\n",
            "Episode 63/100, Leader Valuation: 1713.8306, Follower Valuation: 0.0029\n",
            "Episode 64/100, Leader Valuation: 1450.9784, Follower Valuation: 0.0396\n",
            "Episode 65/100, Leader Valuation: 1936.2032, Follower Valuation: 0.0001\n",
            "Episode 66/100, Leader Valuation: 1913.3024, Follower Valuation: 0.0001\n",
            "Episode 67/100, Leader Valuation: 1437.9897, Follower Valuation: 0.0274\n",
            "Episode 68/100, Leader Valuation: 517.3369, Follower Valuation: 85.6532\n",
            "Episode 69/100, Leader Valuation: 1412.3933, Follower Valuation: 0.0141\n",
            "Episode 70/100, Leader Valuation: 1465.6565, Follower Valuation: 0.0057\n",
            "Episode 71/100, Leader Valuation: 1688.2205, Follower Valuation: 0.0002\n",
            "Episode 72/100, Leader Valuation: 1933.3663, Follower Valuation: 0.0000\n",
            "Episode 73/100, Leader Valuation: 1706.7930, Follower Valuation: 0.1508\n",
            "Episode 74/100, Leader Valuation: 2049.9900, Follower Valuation: 0.0000\n",
            "Episode 75/100, Leader Valuation: 2045.9614, Follower Valuation: 0.0000\n",
            "Episode 76/100, Leader Valuation: 2003.3270, Follower Valuation: 0.0000\n",
            "Episode 77/100, Leader Valuation: 1938.3918, Follower Valuation: 0.0000\n",
            "Episode 78/100, Leader Valuation: 1835.3107, Follower Valuation: 0.0000\n",
            "Episode 79/100, Leader Valuation: 1140.3527, Follower Valuation: 0.0249\n",
            "Episode 80/100, Leader Valuation: 1345.7716, Follower Valuation: 0.0012\n",
            "Episode 81/100, Leader Valuation: 1968.9357, Follower Valuation: 0.0000\n",
            "Episode 82/100, Leader Valuation: 1568.9653, Follower Valuation: 0.0000\n",
            "Episode 83/100, Leader Valuation: 1269.3240, Follower Valuation: 0.0014\n",
            "Episode 84/100, Leader Valuation: 893.1766, Follower Valuation: 0.1815\n",
            "Episode 85/100, Leader Valuation: 2031.7172, Follower Valuation: 0.0000\n",
            "Episode 86/100, Leader Valuation: 1095.0814, Follower Valuation: 0.0075\n",
            "Episode 87/100, Leader Valuation: 1511.0834, Follower Valuation: 0.0000\n",
            "Episode 88/100, Leader Valuation: 1281.8978, Follower Valuation: 0.0003\n",
            "Episode 89/100, Leader Valuation: 1314.6731, Follower Valuation: 0.0001\n",
            "Episode 90/100, Leader Valuation: 2091.1067, Follower Valuation: 0.0000\n",
            "Episode 91/100, Leader Valuation: 1748.9675, Follower Valuation: 0.0000\n",
            "Episode 92/100, Leader Valuation: 1409.1698, Follower Valuation: 0.0000\n",
            "Episode 93/100, Leader Valuation: 1604.6329, Follower Valuation: 0.0000\n",
            "Episode 94/100, Leader Valuation: 1014.3002, Follower Valuation: 0.0033\n",
            "Episode 95/100, Leader Valuation: 1412.2365, Follower Valuation: 0.0000\n",
            "Episode 96/100, Leader Valuation: 1978.7094, Follower Valuation: 0.0000\n",
            "Episode 97/100, Leader Valuation: 888.3898, Follower Valuation: 0.0114\n",
            "Episode 98/100, Leader Valuation: 1281.5299, Follower Valuation: 0.0000\n",
            "Episode 99/100, Leader Valuation: 1339.4753, Follower Valuation: 0.0000\n",
            "Episode 100/100, Leader Valuation: 1707.2638, Follower Valuation: 0.0000\n"
          ]
        }
      ]
    },
    {
      "cell_type": "code",
      "source": [
        "plt.plot(leader_losses, label='Leader Loss')\n",
        "plt.plot(follower_losses, label='Follower Loss')\n",
        "plt.xlabel('Episode')\n",
        "plt.ylabel('Loss')\n",
        "plt.title('Training Losses')\n",
        "plt.legend()\n",
        "plt.show()"
      ],
      "metadata": {
        "colab": {
          "base_uri": "https://localhost:8080/",
          "height": 472
        },
        "id": "KOmMnxQh8z9n",
        "outputId": "8642fbe9-05de-4942-8f92-8dadd7992f7f"
      },
      "execution_count": null,
      "outputs": [
        {
          "output_type": "display_data",
          "data": {
            "text/plain": [
              "<Figure size 640x480 with 1 Axes>"
            ],
            "image/png": "[encoded data removed]"
          },
          "metadata": {}
        }
      ]
    },
    {
      "cell_type": "markdown",
      "source": [
        "# Results & Analysis"
      ],
      "metadata": {
        "id": "g95sonnsl_dz"
      }
    }
  ]
}